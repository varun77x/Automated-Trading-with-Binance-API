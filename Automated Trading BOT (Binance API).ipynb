{
 "cells": [
  {
   "cell_type": "markdown",
   "id": "eace2aac",
   "metadata": {},
   "source": [
    "# AUTOMATED TRADING BOT"
   ]
  },
  {
   "cell_type": "code",
   "execution_count": null,
   "id": "3b4a7b11",
   "metadata": {},
   "outputs": [],
   "source": [
    "from binance.client import Client\n",
    "from binance import ThreadedWebsocketManager\n",
    "import pandas as pd\n",
    "import numpy as np\n",
    "from datetime import datetime,timedelta"
   ]
  },
  {
   "cell_type": "code",
   "execution_count": null,
   "id": "81cc5fd3",
   "metadata": {},
   "outputs": [],
   "source": [
    "api_key =\"YOUR BINANCE TESTNET API KEY HERE\"\n",
    "secret_key = \"YOUR BINANCE TESTNET SECRET KEY HERE\""
   ]
  },
  {
   "cell_type": "code",
   "execution_count": null,
   "id": "632c2725",
   "metadata": {},
   "outputs": [],
   "source": [
    "client = Client(api_key = api_key,api_secret = secret_key,tld = \"com\",testnet=True)"
   ]
  },
  {
   "cell_type": "code",
   "execution_count": null,
   "id": "25509750",
   "metadata": {},
   "outputs": [],
   "source": [
    "class LongOnlyTrader():\n",
    "    def __init__(self,symbol,bar_length,return_thresh,volume_thresh,units,position=0):\n",
    "        self.symbol = symbol\n",
    "        self.bar_length = bar_length\n",
    "        self.available_intervals = [\"1m\",\"3m\",\"5m\",\"15m\",\"30m\",\"1h\",\"2h\",\"4h\",\n",
    "                                   \"6h\",\"8h\",\"12h\",\"1d\",\"3d\",\"1w\",\"1M\"]\n",
    "        self.units = units\n",
    "        self.position = position\n",
    "        \n",
    "        self.return_thresh = return_thresh\n",
    "        self.volume_thresh = volume_thresh\n",
    "        \n",
    "    def start_trading(self,historical_days):\n",
    "        \n",
    "        self.twm = ThreadedWebsocketManager()\n",
    "        self.twm.start()\n",
    "        \n",
    "        if self.bar_length in self.available_intervals:\n",
    "            self.get_most_recent(symbol = self.symbol,interval = self.bar_length,days=historical_days)\n",
    "            self.twm.start_kline_socket(callback=self.stream_candles,symbol=self.symbol,interval=self.bar_length)\n",
    "            \n",
    "    def get_most_recent(self,symbol,interval,days):\n",
    "        now = datetime.utcnow()\n",
    "        past = str(now - timedelta(days = days))\n",
    "        \n",
    "        bars = client.get_historical_klines(symbol=symbol,interval=interval,\n",
    "                                           start_str = past,end_str=None,\n",
    "                                           limit=1000)\n",
    "        df = pd.DataFrame(bars)\n",
    "        df[\"Date\"] = pd.to_datetime(df.iloc[:,0],unit = \"ms\")\n",
    "        df.columns = [\"Open Time\",\"Open\",\"High\",\"Low\",\"Close\",\"Volume\",\"Close Time\",\n",
    "                     \"Quote Asset Volume\",\"Number of Trades\",\"Taker Buy Base Asset Volume\",\n",
    "                     \"Taker Buy Quote Asset Volume\",\"Ignore\",\"Date\"]\n",
    "        df = df[[\"Date\",\"Open\",\"High\",\"Low\",\"Close\",\"Volume\"]].copy()\n",
    "        df.set_index(\"Date\",inplace = True)\n",
    "        \n",
    "        for column in df.columns:\n",
    "            df[column] = pd.to_numeric(df[column],errors = \"coerce\")\n",
    "        df[\"Complete\"] = [True for row in range(len(df)-1)] + [False]\n",
    "        \n",
    "        self.data = df\n",
    "        \n",
    "    def stream_candles(self,msg):\n",
    "        \n",
    "        event_time = pd.to_datetime(msg[\"E\"],unit = \"ms\")\n",
    "        start_time = pd.to_datetime(msg[\"k\"][\"t\"],unit = \"ms\")\n",
    "        first      = float(msg[\"k\"][\"o\"])\n",
    "        high       = float(msg[\"k\"][\"h\"])\n",
    "        low        = float(msg[\"k\"][\"l\"])\n",
    "        close      = float(msg[\"k\"][\"c\"])\n",
    "        volume     = float(msg[\"k\"][\"v\"])\n",
    "        complete   =       msg[\"k\"][\"x\"]\n",
    "        \n",
    "        print(\".\",end = \"\",flush=True)\n",
    "        \n",
    "        self.data.loc[start_time] = [first,high,low,close,volume,complete]\n",
    "        \n",
    "        if complete == True:\n",
    "            self.define_strategy()\n",
    "            self.execute_trades()\n",
    "            \n",
    "    def define_strategy(self):\n",
    "        df = self.data.copy()\n",
    "        \n",
    "        df = df[[\"Close\",\"Volume\"]].copy()\n",
    "        df[\"returns\"] = np.log(df.Close / df.Close.shift())\n",
    "        df[\"vol_ch\"]  = np.log(df.Volume.div(df.Volume.shift(1)))\n",
    "        df.loc[df.vol_ch > 3,\"vol_ch\"] = np.nan\n",
    "        df.loc[df.vol_ch < -3,\"vol_ch\"] = np.nan\n",
    "        \n",
    "        cond1 = df.returns >= self.return_thresh\n",
    "        cond2 = df.vol_ch.between(self.volume_thresh[0],self.volume_thresh[1])\n",
    "        \n",
    "        df[\"position\"] = 1\n",
    "        df.loc[cond1 & cond2,\"position\"] = 0\n",
    "        \n",
    "        self.prepared_data = df.copy()\n",
    "        \n",
    "    def execute_trades(self):\n",
    "        if self.prepared_data[\"position\"].iloc[-1] == 1:\n",
    "            if self.position == 0:\n",
    "                order = client.create_order(symbol = self.symbol,side=\"BUY\",\n",
    "                                           type = \"MARKET\",quantity=self.units)\n",
    "                print(\"GOING LONG\")\n",
    "            self.position == 1\n",
    "        elif self.prepared_data[\"position\"].iloc[-1] == 0:\n",
    "            if self.position == 1:\n",
    "                order = client.create_order(symbol = self.symbol,side=\"SELL\",\n",
    "                                           type = \"MARKET\",quantity=self.units)\n",
    "                print(\"GOING NEUTRAL\")\n",
    "            self.position = 0"
   ]
  },
  {
   "cell_type": "code",
   "execution_count": null,
   "id": "48ed6d88",
   "metadata": {},
   "outputs": [],
   "source": [
    "client.get_account()"
   ]
  },
  {
   "cell_type": "code",
   "execution_count": null,
   "id": "a902fe60",
   "metadata": {},
   "outputs": [],
   "source": [
    "symbol = \"BTCUSDT\"\n",
    "bar_length = \"1m\"\n",
    "return_thresh = 0\n",
    "volume_thresh = [-3,3]\n",
    "units = 0.01\n",
    "position = 0"
   ]
  },
  {
   "cell_type": "code",
   "execution_count": null,
   "id": "81ccfc51",
   "metadata": {},
   "outputs": [],
   "source": [
    "trader = LongOnlyTrader(symbol = symbol, bar_length=bar_length,\n",
    "                       return_thresh=return_thresh,volume_thresh=volume_thresh,\n",
    "                       units = units,position = position)"
   ]
  },
  {
   "cell_type": "code",
   "execution_count": null,
   "id": "e067ce89",
   "metadata": {},
   "outputs": [],
   "source": [
    "trader.start_trading(historical_days = 1/24)"
   ]
  },
  {
   "cell_type": "code",
   "execution_count": null,
   "id": "93bdcf25",
   "metadata": {},
   "outputs": [],
   "source": [
    "trader.twm.stop()"
   ]
  },
  {
   "cell_type": "code",
   "execution_count": null,
   "id": "88bbd3bd",
   "metadata": {
    "scrolled": true
   },
   "outputs": [],
   "source": [
    "trader.prepared_data"
   ]
  }
 ],
 "metadata": {
  "kernelspec": {
   "display_name": "Python 3 (ipykernel)",
   "language": "python",
   "name": "python3"
  },
  "language_info": {
   "codemirror_mode": {
    "name": "ipython",
    "version": 3
   },
   "file_extension": ".py",
   "mimetype": "text/x-python",
   "name": "python",
   "nbconvert_exporter": "python",
   "pygments_lexer": "ipython3",
   "version": "3.9.13"
  }
 },
 "nbformat": 4,
 "nbformat_minor": 5
}
